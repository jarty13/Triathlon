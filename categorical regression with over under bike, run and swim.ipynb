{
 "cells": [
  {
   "cell_type": "code",
   "execution_count": 3,
   "metadata": {},
   "outputs": [],
   "source": [
    "from scipy import stats\n",
    "import numpy as np\n",
    "import pandas as pd \n",
    "import os \n",
    "import pandas as pd \n",
    "import numpy as np\n",
    "import matplotlib.pyplot as plt\n",
    "import seaborn as sns\n",
    "from scipy import stats\n",
    "from sklearn import preprocessing\n",
    "from scipy.stats import pearsonr\n",
    "import statsmodels.api as sm\n",
    "import datetime as dt\n",
    "from datetime import datetime, time, date\n",
    "from sklearn.model_selection import train_test_split, KFold\n",
    "from sklearn.neighbors import KNeighborsRegressor, KNeighborsClassifier\n",
    "from sklearn.linear_model import LinearRegression,LogisticRegression\n",
    "from sklearn.metrics import confusion_matrix\n",
    "from sklearn.linear_model import Lasso\n",
    "from sklearn.linear_model import Ridge\n",
    "from sklearn.metrics import accuracy_score\n",
    "from sklearn.ensemble import GradientBoostingRegressor, GradientBoostingClassifier\n",
    "from sklearn.linear_model import SGDRegressor\n",
    "from sklearn.tree import DecisionTreeRegressor\n",
    "from sklearn import metrics\n",
    "import time\n",
    "from sklearn.model_selection import train_test_split, GridSearchCV, cross_val_score, KFold, ShuffleSplit\n",
    "from sklearn.ensemble import GradientBoostingClassifier, AdaBoostClassifier, RandomForestClassifier"
   ]
  },
  {
   "cell_type": "code",
   "execution_count": 258,
   "metadata": {},
   "outputs": [],
   "source": [
    "test= pd.read_csv('data_FINAL')"
   ]
  },
  {
   "cell_type": "code",
   "execution_count": 139,
   "metadata": {},
   "outputs": [],
   "source": [
    "# test.columns"
   ]
  },
  {
   "cell_type": "code",
   "execution_count": 138,
   "metadata": {},
   "outputs": [],
   "source": [
    "# t= pd.get_dummies(test['event_id'], prefix='event_id')"
   ]
  },
  {
   "cell_type": "code",
   "execution_count": 263,
   "metadata": {},
   "outputs": [],
   "source": [
    "for n in ['swim','t1','bike','t2','run','total_time']:\n",
    "    test[n] = pd.to_timedelta(test[n])/pd.Timedelta(minutes=1)"
   ]
  },
  {
   "cell_type": "code",
   "execution_count": 136,
   "metadata": {},
   "outputs": [],
   "source": [
    "# s= test['swim']\n",
    "# r=test['run']\n",
    "# b=test['bike']\n",
    "# frames=[s,t]\n",
    "# framer=[r,t]\n",
    "# frameb=[b,t]\n",
    "# frame_t=[s,r,b,t]"
   ]
  },
  {
   "cell_type": "code",
   "execution_count": 135,
   "metadata": {},
   "outputs": [],
   "source": [
    "# test= test.fillna(0)\n"
   ]
  },
  {
   "cell_type": "code",
   "execution_count": 134,
   "metadata": {},
   "outputs": [],
   "source": [
    "# total.describe()"
   ]
  },
  {
   "cell_type": "code",
   "execution_count": 133,
   "metadata": {},
   "outputs": [],
   "source": [
    "# swim= pd.concat(frames, axis=1)\n",
    "# run=pd.concat(framer,axis=1)\n",
    "# bike= pd.concat(frameb, axis=1)\n",
    "# total= pd.concat(frame_t,axis=1)"
   ]
  },
  {
   "cell_type": "code",
   "execution_count": 132,
   "metadata": {},
   "outputs": [],
   "source": [
    "# _list=[]\n",
    "# for i in swim.columns:\n",
    "#     if i !='swim':\n",
    "#         _list.append(i)\n",
    "    \n",
    "\n"
   ]
  },
  {
   "cell_type": "code",
   "execution_count": 131,
   "metadata": {},
   "outputs": [],
   "source": [
    "# X=swim[_list]\n",
    "# y=swim['swim']\n",
    "# X_train,X_test,y_train,y_test= train_test_split(X,y)"
   ]
  },
  {
   "cell_type": "code",
   "execution_count": 130,
   "metadata": {},
   "outputs": [],
   "source": [
    "# def plot_feature_importances(model):\n",
    "#     n_features = X_train.shape[1]\n",
    "#     plt.figure(figsize=(100,100))\n",
    "#     plt.barh(range(n_features), model.feature_importances_, align='center') \n",
    "#     plt.yticks(np.arange(n_features), X_train.columns.values) \n",
    "#     plt.xlabel(\"Feature importance\")\n",
    "#     plt.ylabel(\"Feature\")\n"
   ]
  },
  {
   "cell_type": "code",
   "execution_count": 129,
   "metadata": {},
   "outputs": [],
   "source": [
    "\n",
    "# gbrt = GradientBoostingRegressor(random_state=0)\n",
    "# gbrt.fit(X_train, y_train)\n",
    "# y_predict_gb= gbrt.predict(X_test)\n",
    "\n",
    "# print(\"Accuracy on training set: {:.3f}\".format(gbrt.score(X_train, y_train)))\n",
    "# print(\"Accuracy on test set: {:.3f}\".format(gbrt.score(X_test, y_test)))"
   ]
  },
  {
   "cell_type": "code",
   "execution_count": 128,
   "metadata": {},
   "outputs": [],
   "source": [
    "# plot_feature_importances(gbrt)"
   ]
  },
  {
   "cell_type": "code",
   "execution_count": 127,
   "metadata": {},
   "outputs": [],
   "source": [
    "# forest = DecisionTreeRegressor()\n",
    "# forest.fit(X_train, y_train)\n",
    "# print(\"Accuracy on training set: {:.3f}\".format(forest.score(X_train, y_train)))\n",
    "# print(\"Accuracy on test set: {:.3f}\".format(forest.score(X_test, y_test)))"
   ]
  },
  {
   "cell_type": "code",
   "execution_count": 126,
   "metadata": {},
   "outputs": [],
   "source": [
    "# plot_feature_importances(forest)"
   ]
  },
  {
   "cell_type": "code",
   "execution_count": 125,
   "metadata": {},
   "outputs": [],
   "source": [
    "# X=run[_list]\n",
    "# y=run['run']\n",
    "# X_train,X_test,y_train,y_test= train_test_split(X,y)"
   ]
  },
  {
   "cell_type": "code",
   "execution_count": 124,
   "metadata": {},
   "outputs": [],
   "source": [
    "# gbrt = GradientBoostingRegressor(random_state=0)\n",
    "# gbrt.fit(X_train, y_train)\n",
    "# y_predict_gb= gbrt.predict(X_test)\n",
    "\n",
    "# print(\"Accuracy on training set: {:.3f}\".format(gbrt.score(X_train, y_train)))\n",
    "# print(\"Accuracy on test set: {:.3f}\".format(gbrt.score(X_test, y_test)))"
   ]
  },
  {
   "cell_type": "code",
   "execution_count": 123,
   "metadata": {},
   "outputs": [],
   "source": [
    "# plot_feature_importances(gbrt)"
   ]
  },
  {
   "cell_type": "code",
   "execution_count": 122,
   "metadata": {},
   "outputs": [],
   "source": [
    "# forest = DecisionTreeRegressor()\n",
    "# forest.fit(X_train, y_train)\n",
    "# print(\"Accuracy on training set: {:.3f}\".format(forest.score(X_train, y_train)))\n",
    "# print(\"Accuracy on test set: {:.3f}\".format(forest.score(X_test, y_test)))"
   ]
  },
  {
   "cell_type": "code",
   "execution_count": 121,
   "metadata": {},
   "outputs": [],
   "source": [
    "# plot_feature_importances(forest)"
   ]
  },
  {
   "cell_type": "code",
   "execution_count": 120,
   "metadata": {},
   "outputs": [],
   "source": [
    "# X=run[_list]\n",
    "# y=bike['bike']\n",
    "# X_train,X_test,y_train,y_test= train_test_split(X,y)"
   ]
  },
  {
   "cell_type": "code",
   "execution_count": 119,
   "metadata": {},
   "outputs": [],
   "source": [
    "# gbrt = GradientBoostingRegressor(random_state=0)\n",
    "# gbrt.fit(X_train, y_train)\n",
    "# y_predict_gb= gbrt.predict(X_test)\n",
    "\n",
    "# print(\"Accuracy on training set: {:.3f}\".format(gbrt.score(X_train, y_train)))\n",
    "# print(\"Accuracy on test set: {:.3f}\".format(gbrt.score(X_test, y_test)))"
   ]
  },
  {
   "cell_type": "code",
   "execution_count": 118,
   "metadata": {},
   "outputs": [],
   "source": [
    "# plot_feature_importances(gbrt)"
   ]
  },
  {
   "cell_type": "code",
   "execution_count": 116,
   "metadata": {},
   "outputs": [],
   "source": [
    "# forest = DecisionTreeRegressor()\n",
    "# forest.fit(X_train, y_train)\n",
    "# print(\"Accuracy on training set: {:.3f}\".format(forest.score(X_train, y_train)))\n",
    "# print(\"Accuracy on test set: {:.3f}\".format(forest.score(X_test, y_test)))"
   ]
  },
  {
   "cell_type": "code",
   "execution_count": 117,
   "metadata": {},
   "outputs": [],
   "source": [
    "# plot_feature_importances(gbrt)"
   ]
  },
  {
   "cell_type": "code",
   "execution_count": 115,
   "metadata": {},
   "outputs": [],
   "source": [
    "# total['121384']"
   ]
  },
  {
   "cell_type": "code",
   "execution_count": 265,
   "metadata": {},
   "outputs": [],
   "source": [
    "# test= test.drop('Unnamed: 0', axis=1 )"
   ]
  },
  {
   "cell_type": "code",
   "execution_count": 266,
   "metadata": {},
   "outputs": [],
   "source": [
    "test['pct_swim']=test['swim']/test ['total_time']\n"
   ]
  },
  {
   "cell_type": "code",
   "execution_count": 267,
   "metadata": {},
   "outputs": [],
   "source": [
    "test['pct_bike']=test['bike']/test['total_time']\n"
   ]
  },
  {
   "cell_type": "code",
   "execution_count": 268,
   "metadata": {},
   "outputs": [],
   "source": [
    "test['pct_run']= test['run']/test['total_time']\n"
   ]
  },
  {
   "cell_type": "code",
   "execution_count": null,
   "metadata": {},
   "outputs": [],
   "source": []
  },
  {
   "cell_type": "code",
   "execution_count": 269,
   "metadata": {},
   "outputs": [],
   "source": [
    "test['pct_trans']= (test['t1']+test['t2'])/test['total_time']"
   ]
  },
  {
   "cell_type": "code",
   "execution_count": 270,
   "metadata": {},
   "outputs": [],
   "source": [
    "test['age']= 2018- test['athlete_yob']"
   ]
  },
  {
   "cell_type": "code",
   "execution_count": 271,
   "metadata": {},
   "outputs": [],
   "source": [
    "test= test.fillna(0)"
   ]
  },
  {
   "cell_type": "code",
   "execution_count": 511,
   "metadata": {},
   "outputs": [
    {
     "data": {
      "text/plain": [
       "1285"
      ]
     },
     "execution_count": 511,
     "metadata": {},
     "output_type": "execute_result"
    }
   ],
   "source": [
    "sum(test['over_total']== False)"
   ]
  },
  {
   "cell_type": "code",
   "execution_count": 273,
   "metadata": {},
   "outputs": [
    {
     "data": {
      "text/plain": [
       "215"
      ]
     },
     "execution_count": 273,
     "metadata": {},
     "output_type": "execute_result"
    }
   ],
   "source": [
    "len(test['event_id'].unique())"
   ]
  },
  {
   "cell_type": "code",
   "execution_count": 274,
   "metadata": {},
   "outputs": [],
   "source": [
    "mean = test['total_time'].groupby(test['age']).mean()\n",
    "mean_swim = test['swim'].groupby(test['age']).mean()\n",
    "mean_bike = test['bike'].groupby(test['age']).mean()\n",
    "mean_run = test['run'].groupby(test['age']).mean()\n",
    "mean_tran= (test['t1']+test['t2']).groupby(test['age']).mean()"
   ]
  },
  {
   "cell_type": "code",
   "execution_count": 275,
   "metadata": {},
   "outputs": [],
   "source": [
    "frame = [mean, mean_swim, mean_bike, mean_run, mean_tran]\n"
   ]
  },
  {
   "cell_type": "code",
   "execution_count": 276,
   "metadata": {},
   "outputs": [],
   "source": [
    "mean = pd.DataFrame(frame)\n"
   ]
  },
  {
   "cell_type": "code",
   "execution_count": 277,
   "metadata": {},
   "outputs": [],
   "source": [
    "mean = mean.T\n"
   ]
  },
  {
   "cell_type": "code",
   "execution_count": 278,
   "metadata": {},
   "outputs": [],
   "source": [
    "mean= mean.rename(columns = {'total_time':'mean_total', 'swim':'mean_swim','bike':'mean_bike','run':'mean_run','Unnamed 0':'mean_tran'})"
   ]
  },
  {
   "cell_type": "code",
   "execution_count": 279,
   "metadata": {},
   "outputs": [],
   "source": [
    "mean.to_csv('average_times')"
   ]
  },
  {
   "cell_type": "code",
   "execution_count": 280,
   "metadata": {},
   "outputs": [],
   "source": [
    "happy = mean.merge(test, on='age')\n",
    "    "
   ]
  },
  {
   "cell_type": "code",
   "execution_count": 281,
   "metadata": {},
   "outputs": [],
   "source": [
    "happy= happy[['age','mean_total','mean_swim','mean_bike','mean_run','mean_tran','swim','run','bike','total_time','total_tran']]"
   ]
  },
  {
   "cell_type": "code",
   "execution_count": 459,
   "metadata": {},
   "outputs": [],
   "source": [
    "# over_total=[]\n",
    "# =[]\n",
    "# over_bike=[]\n",
    "# over_run=[]\n",
    "# over_tran=[]\n",
    "\n",
    "\n",
    "test['over_total'] = [i for i in happy['total_time']> happy['mean_total']]\n",
    "test['over_swim'] = [i for i in happy['swim']> happy['mean_swim']]\n",
    "test['over_bike'] = [i for i in happy['bike']> happy['mean_bike']]\n",
    "test['over_run'] = [i for i in happy['run']> happy['mean_run']]\n",
    "test['over_tran'] = [i for i in happy['total_tran']> happy['mean_tran']]"
   ]
  },
  {
   "cell_type": "code",
   "execution_count": 289,
   "metadata": {},
   "outputs": [],
   "source": [
    " test[['over_total','over_swim','over_bike','over_run','over_tran']]= test[['over_total','over_swim','over_bike','over_run','over_tran']].astype(int)"
   ]
  },
  {
   "cell_type": "code",
   "execution_count": 559,
   "metadata": {},
   "outputs": [],
   "source": [
    "test.to_csv('final_categorical')"
   ]
  },
  {
   "cell_type": "code",
   "execution_count": 458,
   "metadata": {},
   "outputs": [
    {
     "data": {
      "text/plain": [
       "total_time                      float64\n",
       "athlete_categories               object\n",
       "athlete_country_id                int64\n",
       "athlete_yob                       int64\n",
       "coach                             int64\n",
       "current_rankings                  int64\n",
       "higher_education                  int64\n",
       "hobbies                           int64\n",
       "injuries                         object\n",
       "languages_spoken                  int64\n",
       "marital_status                   object\n",
       "occupation                       object\n",
       "sponsors                         object\n",
       "spouse_children                  object\n",
       "weight                            int64\n",
       "finish_percentage               float64\n",
       "race_finishes                     int64\n",
       "race_podium_percentage          float64\n",
       "race_podiums                      int64\n",
       "race_starts                       int64\n",
       "race_wins                         int64\n",
       "event_country_id                  int64\n",
       "event_date                       object\n",
       "event_id                          int64\n",
       "event_latitude                  float64\n",
       "event_longitude                 float64\n",
       "event_region_id                   int64\n",
       "headers_count                     int64\n",
       "position                          int64\n",
       "prog_id                           int64\n",
       "                                 ...   \n",
       "occupation_1                      int64\n",
       "sponsors_1                        int64\n",
       "spouse_children_1                 int64\n",
       "total_tran_norm                 float64\n",
       "sponors                           int64\n",
       "athlete_country_id.1              int64\n",
       "athlete_categories_[39, 42]       int64\n",
       "athlete_categories_[39]           int64\n",
       "athlete_categories_[40, 42]       int64\n",
       "athlete_categories_[40]           int64\n",
       "athlete_categories_[42]           int64\n",
       "athlete_gender_female             int64\n",
       "athlete_gender_male               int64\n",
       "injuries_0                        int64\n",
       "injuries_achilles                 int64\n",
       "injuries_broken_leg               int64\n",
       "injuries_collarbone               int64\n",
       "injuries_face_scar                int64\n",
       "injuries_knee                     int64\n",
       "injuries_stress_fracture          int64\n",
       "pct_swim                        float64\n",
       "pct_bike                        float64\n",
       "pct_run                         float64\n",
       "pct_trans                       float64\n",
       "age                               int64\n",
       "over_total                     category\n",
       "over_swim                          bool\n",
       "over_bike                          bool\n",
       "over_run                           bool\n",
       "over_tran                          bool\n",
       "Length: 82, dtype: object"
      ]
     },
     "execution_count": 458,
     "metadata": {},
     "output_type": "execute_result"
    }
   ],
   "source": [
    " test.dtypes"
   ]
  },
  {
   "cell_type": "code",
   "execution_count": 454,
   "metadata": {},
   "outputs": [],
   "source": [
    "test['over_total']= test['over_total'].astype('category')"
   ]
  },
  {
   "cell_type": "code",
   "execution_count": 328,
   "metadata": {},
   "outputs": [],
   "source": [
    "_list=[]\n",
    "for i in test.columns: \n",
    "    if i !=['over_total']:\n",
    "        _list.append(i)\n",
    "_list= _list[:-5]"
   ]
  },
  {
   "cell_type": "code",
   "execution_count": 512,
   "metadata": {},
   "outputs": [],
   "source": [
    "## categorical regression\n",
    "X=test[['athlete_country_id', 'athlete_yob', 'coach',\n",
    "       'current_rankings', 'higher_education', 'hobbies',\n",
    "       'languages_spoken' , 'weight', 'finish_percentage', 'race_finishes',\n",
    "       'race_podium_percentage', 'race_podiums', 'race_starts', 'race_wins', 'event_latitude',\n",
    "       'event_longitude', 'event_region_id', 'headers_count', 'position',\n",
    "       'prog_id', 'result_id', 'bike_m','swim_m', 'run_m', 't1_s', 't2_s', 'total_tran', 'higher_education_1',\n",
    "       'hobbies_1', 'injuries_1', 'languages_spoken_1', 'marital_status_1',\n",
    "       'occupation_1', 'sponsors_1', 'spouse_children_1', 'athlete_country_id', 'event_country_id', 'event_id',\n",
    "       'athlete_categories_[39, 42]', 'athlete_categories_[39]',\n",
    "       'athlete_categories_[40, 42]', 'athlete_categories_[40]',\n",
    "       'athlete_categories_[42]', 'athlete_gender_female',\n",
    "       'athlete_gender_male', 'injuries_0', 'injuries_achilles',\n",
    "       'injuries_broken_leg', 'injuries_collarbone', 'injuries_face_scar',\n",
    "       'injuries_knee', 'injuries_stress_fracture','over_swim','over_bike','over_run','over_tran']]\n",
    "\n",
    "\n",
    "y=test['over_total']\n",
    "X_train, X_test, y_train, y_test = train_test_split(X,y)"
   ]
  },
  {
   "cell_type": "markdown",
   "metadata": {},
   "source": [
    "# Logistic Regression"
   ]
  },
  {
   "cell_type": "code",
   "execution_count": 2,
   "metadata": {},
   "outputs": [
    {
     "ename": "NameError",
     "evalue": "name 'KFold' is not defined",
     "output_type": "error",
     "traceback": [
      "\u001b[0;31m---------------------------------------------------------------------------\u001b[0m",
      "\u001b[0;31mNameError\u001b[0m                                 Traceback (most recent call last)",
      "\u001b[0;32m<ipython-input-2-d39f384f0f9f>\u001b[0m in \u001b[0;36m<module>\u001b[0;34m()\u001b[0m\n\u001b[0;32m----> 1\u001b[0;31m \u001b[0mkfold\u001b[0m\u001b[0;34m=\u001b[0m \u001b[0mKFold\u001b[0m\u001b[0;34m(\u001b[0m\u001b[0mn_splits\u001b[0m\u001b[0;34m=\u001b[0m\u001b[0;36m4\u001b[0m\u001b[0;34m)\u001b[0m\u001b[0;34m\u001b[0m\u001b[0m\n\u001b[0m",
      "\u001b[0;31mNameError\u001b[0m: name 'KFold' is not defined"
     ]
    }
   ],
   "source": [
    "kfold= KFold(n_splits=4)"
   ]
  },
  {
   "cell_type": "code",
   "execution_count": 514,
   "metadata": {},
   "outputs": [
    {
     "name": "stdout",
     "output_type": "stream",
     "text": [
      "Training set score:\n",
      "0.64\n",
      "Test set score:\n",
      "0.67\n",
      "Mean cross-validation score:\n",
      "0.65\n"
     ]
    }
   ],
   "source": [
    "clf= LogisticRegression()\n",
    "clf.fit(X_train,y_train)\n",
    "y_hat_test = clf.predict(X_test)\n",
    "y_score =clf.decision_function(X_test)\n",
    "print(\"Training set score:\\n{:.2f}\".format(clf.score(X_train,y_train)))\n",
    "print(\"Test set score:\\n{:.2f}\".format(clf.score(X_test,y_test)))\n",
    "print(\"Mean cross-validation score:\\n{:.2f}\".format(cross_val_score(clf,X,y, cv=kfold).mean()))"
   ]
  },
  {
   "cell_type": "code",
   "execution_count": 1,
   "metadata": {},
   "outputs": [
    {
     "ename": "NameError",
     "evalue": "name 'y_hat_test' is not defined",
     "output_type": "error",
     "traceback": [
      "\u001b[0;31m---------------------------------------------------------------------------\u001b[0m",
      "\u001b[0;31mNameError\u001b[0m                                 Traceback (most recent call last)",
      "\u001b[0;32m<ipython-input-1-51623a4eee0c>\u001b[0m in \u001b[0;36m<module>\u001b[0;34m()\u001b[0m\n\u001b[1;32m      1\u001b[0m \u001b[0;32mfrom\u001b[0m \u001b[0msklearn\u001b[0m\u001b[0;34m.\u001b[0m\u001b[0mmetrics\u001b[0m \u001b[0;32mimport\u001b[0m \u001b[0mconfusion_matrix\u001b[0m\u001b[0;34m\u001b[0m\u001b[0m\n\u001b[1;32m      2\u001b[0m \u001b[0;34m\u001b[0m\u001b[0m\n\u001b[0;32m----> 3\u001b[0;31m \u001b[0mcnf_matrix\u001b[0m \u001b[0;34m=\u001b[0m \u001b[0mconfusion_matrix\u001b[0m\u001b[0;34m(\u001b[0m \u001b[0my_hat_test\u001b[0m\u001b[0;34m,\u001b[0m\u001b[0my_test\u001b[0m\u001b[0;34m)\u001b[0m\u001b[0;34m\u001b[0m\u001b[0m\n\u001b[0m\u001b[1;32m      4\u001b[0m \u001b[0;34m\u001b[0m\u001b[0m\n\u001b[1;32m      5\u001b[0m \u001b[0mprint\u001b[0m\u001b[0;34m(\u001b[0m\u001b[0;34m'Confusion Matrix:\\n'\u001b[0m\u001b[0;34m,\u001b[0m\u001b[0mcnf_matrix\u001b[0m\u001b[0;34m)\u001b[0m\u001b[0;34m\u001b[0m\u001b[0m\n",
      "\u001b[0;31mNameError\u001b[0m: name 'y_hat_test' is not defined"
     ]
    }
   ],
   "source": [
    "from sklearn.metrics import confusion_matrix\n",
    "\n",
    "cnf_matrix = confusion_matrix( y_hat_test,y_test)\n",
    "\n",
    "print('Confusion Matrix:\\n',cnf_matrix)"
   ]
  },
  {
   "cell_type": "code",
   "execution_count": 516,
   "metadata": {},
   "outputs": [
    {
     "data": {
      "text/plain": [
       "<matplotlib.colorbar.Colorbar at 0x1c1c0a2080>"
      ]
     },
     "execution_count": 516,
     "metadata": {},
     "output_type": "execute_result"
    },
    {
     "data": {
      "image/png": "[encoded data removed]",
      "text/plain": [
       "<Figure size 432x288 with 2 Axes>"
      ]
     },
     "metadata": {},
     "output_type": "display_data"
    }
   ],
   "source": [
    "import numpy as np\n",
    "import itertools\n",
    "import matplotlib.pyplot as plt\n",
    "%matplotlib inline\n",
    "\n",
    "plt.imshow(cnf_matrix,  cmap=plt.cm.Blues) #Create the basic matrix.\n",
    "\n",
    "#Add title and Axis Labels\n",
    "plt.title('Confusion Matrix')\n",
    "plt.ylabel('True label')\n",
    "plt.xlabel('Predicted label')\n",
    "\n",
    "#Add appropriate Axis Scales\n",
    "class_names = set(y) #Get class labels to add to matrix\n",
    "tick_marks = np.arange(len(class_names))\n",
    "plt.xticks(tick_marks, class_names, rotation=45)\n",
    "plt.yticks(tick_marks, class_names)\n",
    "\n",
    "#Add Labels to Each Cell\n",
    "thresh = cnf_matrix.max() / 2. #Used for text coloring below\n",
    "#Here we iterate through the confusion matrix and append labels to our visualization.\n",
    "for i, j in itertools.product(range(cnf_matrix.shape[0]), range(cnf_matrix.shape[1])):\n",
    "        plt.text(j, i, cnf_matrix[i, j],\n",
    "                 horizontalalignment=\"center\",\n",
    "                 color=\"white\" if cnf_matrix[i, j] > thresh else \"black\")\n",
    "\n",
    "#Add a Side Bar Legend Showing Colors\n",
    "plt.colorbar()"
   ]
  },
  {
   "cell_type": "markdown",
   "metadata": {},
   "source": [
    "# Random Forest \n"
   ]
  },
  {
   "cell_type": "code",
   "execution_count": 538,
   "metadata": {},
   "outputs": [
    {
     "name": "stdout",
     "output_type": "stream",
     "text": [
      "Training set score:\n",
      "0.96\n",
      "Test set score:\n",
      "0.95\n",
      "Mean cross-validation score:\n",
      "0.95\n"
     ]
    }
   ],
   "source": [
    "rforest= RandomForestClassifier(criterion= 'entropy',max_depth= 6,min_samples_leaf=1,min_samples_split=20,n_estimators= 100)\n",
    "rforest.fit(X_train,y_train)\n",
    "y_hat_test = rforest.predict(X_test)\n",
    "print(\"Training set score:\\n{:.2f}\".format(rforest.score(X_train,y_train)))\n",
    "print(\"Test set score:\\n{:.2f}\".format(rforest.score(X_test,y_test)))\n",
    "print(\"Mean cross-validation score:\\n{:.2f}\".format(cross_val_score(rforest,X,y, cv=KFold(n_splits=15, shuffle= True, random_state=0)).mean()))"
   ]
  },
  {
   "cell_type": "code",
   "execution_count": 539,
   "metadata": {},
   "outputs": [
    {
     "data": {
      "text/plain": [
       "GridSearchCV(cv=3, error_score='raise',\n",
       "       estimator=RandomForestClassifier(bootstrap=True, class_weight=None, criterion='entropy',\n",
       "            max_depth=6, max_features='auto', max_leaf_nodes=None,\n",
       "            min_impurity_decrease=0.0, min_impurity_split=None,\n",
       "            min_samples_leaf=1, min_samples_split=20,\n",
       "            min_weight_fraction_leaf=0.0, n_estimators=100, n_jobs=1,\n",
       "            oob_score=False, random_state=None, verbose=0,\n",
       "            warm_start=False),\n",
       "       fit_params=None, iid=True, n_jobs=1,\n",
       "       param_grid={'n_estimators': [10, 30, 100], 'criterion': ['gini', 'entropy'], 'max_depth': [None, 2, 6, 10], 'min_samples_split': [2, 5, 10, 15, 20], 'min_samples_leaf': [1, 2, 5]},\n",
       "       pre_dispatch='2*n_jobs', refit=True, return_train_score=True,\n",
       "       scoring=None, verbose=0)"
      ]
     },
     "execution_count": 539,
     "metadata": {},
     "output_type": "execute_result"
    }
   ],
   "source": [
    "rf_param_grid = {\n",
    "    'n_estimators': [10, 30, 100],\n",
    "    'criterion': ['gini', 'entropy'],\n",
    "    'max_depth': [None, 2, 6, 10],\n",
    "    'min_samples_split': [2,5,10,15, 20],\n",
    "    'min_samples_leaf': [1, 2, 5]\n",
    "}\n",
    "\n",
    "rf_grid_search = GridSearchCV(rforest, rf_param_grid, cv=3, return_train_score=True)\n",
    "rf_grid_search.fit(X,y)"
   ]
  },
  {
   "cell_type": "code",
   "execution_count": 540,
   "metadata": {},
   "outputs": [
    {
     "name": "stdout",
     "output_type": "stream",
     "text": [
      "Mean Training Score: 95.2%\n",
      "Mean Testing Score: 95.58%\n",
      "Best Parameter Combination Found During Grid Search:\n"
     ]
    },
    {
     "data": {
      "text/plain": [
       "{'criterion': 'gini',\n",
       " 'max_depth': 6,\n",
       " 'min_samples_leaf': 1,\n",
       " 'min_samples_split': 15,\n",
       " 'n_estimators': 100}"
      ]
     },
     "execution_count": 540,
     "metadata": {},
     "output_type": "execute_result"
    }
   ],
   "source": [
    "rf_gs_training_score = np.mean(rf_grid_search.cv_results_['mean_train_score'])\n",
    "rf_gs_testing_score = rf_grid_search.score(X, y)\n",
    "\n",
    "print(\"Mean Training Score: {:.4}%\".format(rf_gs_training_score * 100))\n",
    "print(\"Mean Testing Score: {:.4}%\".format(rf_gs_testing_score * 100))\n",
    "print(\"Best Parameter Combination Found During Grid Search:\")\n",
    "rf_grid_search.best_params_"
   ]
  },
  {
   "cell_type": "code",
   "execution_count": 541,
   "metadata": {},
   "outputs": [
    {
     "name": "stdout",
     "output_type": "stream",
     "text": [
      "Confusion Matrix:\n",
      " [[323  11]\n",
      " [ 13 151]]\n"
     ]
    },
    {
     "data": {
      "text/plain": [
       "<matplotlib.colorbar.Colorbar at 0x1c1cb1b4a8>"
      ]
     },
     "execution_count": 541,
     "metadata": {},
     "output_type": "execute_result"
    },
    {
     "data": {
      "image/png": "[encoded data removed]",
      "text/plain": [
       "<Figure size 432x288 with 2 Axes>"
      ]
     },
     "metadata": {},
     "output_type": "display_data"
    }
   ],
   "source": [
    "from sklearn.metrics import confusion_matrix\n",
    "\n",
    "cnf_matrix = confusion_matrix(y_hat_test, y_test)\n",
    "\n",
    "print('Confusion Matrix:\\n',cnf_matrix)\n",
    "plt.imshow(cnf_matrix,  cmap=plt.cm.Blues) #Create the basic matrix.\n",
    "\n",
    "#Add title and Axis Labels\n",
    "plt.title('Confusion Matrix')\n",
    "plt.ylabel('True label')\n",
    "plt.xlabel('Predicted label')\n",
    "\n",
    "#Add appropriate Axis Scales\n",
    "class_names = set(y) #Get class labels to add to matrix\n",
    "tick_marks = np.arange(len(class_names))\n",
    "plt.xticks(tick_marks, class_names, rotation=45)\n",
    "plt.yticks(tick_marks, class_names)\n",
    "\n",
    "#Add Labels to Each Cell\n",
    "thresh = cnf_matrix.max() / 2. #Used for text coloring below\n",
    "#Here we iterate through the confusion matrix and append labels to our visualization.\n",
    "for i, j in itertools.product(range(cnf_matrix.shape[0]), range(cnf_matrix.shape[1])):\n",
    "        plt.text(j, i, cnf_matrix[i, j],\n",
    "                 horizontalalignment=\"center\",\n",
    "                 color=\"white\" if cnf_matrix[i, j] > thresh else \"black\")\n",
    "\n",
    "#Add a Side Bar Legend Showing Colors\n",
    "plt.colorbar()"
   ]
  },
  {
   "cell_type": "code",
   "execution_count": 542,
   "metadata": {},
   "outputs": [
    {
     "data": {
      "image/png": "[encoded data removed]",
      "text/plain": [
       "<Figure size 1080x1080 with 1 Axes>"
      ]
     },
     "metadata": {},
     "output_type": "display_data"
    }
   ],
   "source": [
    "plot_feature_importances(rforest)"
   ]
  },
  {
   "cell_type": "markdown",
   "metadata": {},
   "source": [
    "# Gradient Boost \n"
   ]
  },
  {
   "cell_type": "code",
   "execution_count": 551,
   "metadata": {},
   "outputs": [
    {
     "name": "stdout",
     "output_type": "stream",
     "text": [
      "Training set score:0.636\n",
      "Test set score:0.675\n",
      "Mean cross-validation score:\n",
      "0.65\n"
     ]
    }
   ],
   "source": [
    "grbst= GradientBoostingClassifier(learning_rate= 0.01,max_depth= 2,min_samples_leaf= 2,min_samples_split= 2,n_estimators= 10)\n",
    "grbst.fit(X_train,y_train)\n",
    "y_hat_test = grbst.predict(X_test)\n",
    "print(\"Training set score:{:.3f}\".format(grbst.score(X_train,y_train)))\n",
    "print(\"Test set score:{:.3f}\".format(grbst.score(X_test,y_test)))\n",
    "print(\"Mean cross-validation score:\\n{:.2f}\".format(cross_val_score(grbst,X,y, cv=kfold).mean()))"
   ]
  },
  {
   "cell_type": "code",
   "execution_count": 552,
   "metadata": {},
   "outputs": [],
   "source": [
    "#Gradient Boost\n",
    "gb_param_grid = {'n_estimators': [10],\n",
    "                  'learning_rate':[0.001, 0.01,0.1,1],\n",
    "                  'max_depth': [2,4,20],\n",
    "                  'min_samples_leaf': range(2, 20, 8),\n",
    "                  'min_samples_split': range(2, 10, 2),\n",
    "                  #'max_features': range(1, len(X.columns)+1)\n",
    "                }"
   ]
  },
  {
   "cell_type": "code",
   "execution_count": 553,
   "metadata": {},
   "outputs": [
    {
     "data": {
      "text/plain": [
       "GridSearchCV(cv=3, error_score='raise',\n",
       "       estimator=GradientBoostingClassifier(criterion='friedman_mse', init=None,\n",
       "              learning_rate=0.01, loss='deviance', max_depth=2,\n",
       "              max_features=None, max_leaf_nodes=None,\n",
       "              min_impurity_decrease=0.0, min_impurity_split=None,\n",
       "              min_samples_leaf=2, min_samples_split=2,\n",
       "              min_weight_fraction_leaf=0.0, n_estimators=10,\n",
       "              presort='auto', random_state=None, subsample=1.0, verbose=0,\n",
       "              warm_start=False),\n",
       "       fit_params=None, iid=True, n_jobs=1,\n",
       "       param_grid={'n_estimators': [10], 'learning_rate': [0.001, 0.01, 0.1, 1], 'max_depth': [2, 4, 20], 'min_samples_leaf': range(2, 20, 8), 'min_samples_split': range(2, 10, 2)},\n",
       "       pre_dispatch='2*n_jobs', refit=True, return_train_score=True,\n",
       "       scoring=None, verbose=0)"
      ]
     },
     "execution_count": 553,
     "metadata": {},
     "output_type": "execute_result"
    }
   ],
   "source": [
    "gb_grid_search = GridSearchCV(grbst, gb_param_grid, cv=3, return_train_score=True)\n",
    "gb_grid_search.fit(X,y)"
   ]
  },
  {
   "cell_type": "code",
   "execution_count": 554,
   "metadata": {},
   "outputs": [
    {
     "name": "stdout",
     "output_type": "stream",
     "text": [
      "Mean Training Score: 80.83%\n",
      "Mean Testing Score: 94.88%\n",
      "Best Parameter Combination Found During Grid Search:\n"
     ]
    },
    {
     "data": {
      "text/plain": [
       "{'learning_rate': 0.1,\n",
       " 'max_depth': 2,\n",
       " 'min_samples_leaf': 2,\n",
       " 'min_samples_split': 2,\n",
       " 'n_estimators': 10}"
      ]
     },
     "execution_count": 554,
     "metadata": {},
     "output_type": "execute_result"
    }
   ],
   "source": [
    "gb_gs_training_score = np.mean(gb_grid_search.cv_results_['mean_train_score'])\n",
    "gb_gs_testing_score = gb_grid_search.score(X, y)\n",
    "\n",
    "print(\"Mean Training Score: {:.4}%\".format(gb_gs_training_score * 100))\n",
    "print(\"Mean Testing Score: {:.4}%\".format(gb_gs_testing_score * 100))\n",
    "print(\"Best Parameter Combination Found During Grid Search:\")\n",
    "gb_grid_search.best_params_\n"
   ]
  },
  {
   "cell_type": "code",
   "execution_count": 555,
   "metadata": {},
   "outputs": [
    {
     "name": "stdout",
     "output_type": "stream",
     "text": [
      "Confusion Matrix:\n",
      " [[336 162]\n",
      " [  0   0]]\n"
     ]
    },
    {
     "data": {
      "text/plain": [
       "<matplotlib.colorbar.Colorbar at 0x1c1c3d25c0>"
      ]
     },
     "execution_count": 555,
     "metadata": {},
     "output_type": "execute_result"
    },
    {
     "data": {
      "image/png": "[encoded data removed]",
      "text/plain": [
       "<Figure size 432x288 with 2 Axes>"
      ]
     },
     "metadata": {},
     "output_type": "display_data"
    }
   ],
   "source": [
    "cnf_matrix = confusion_matrix(y_hat_test, y_test)\n",
    "\n",
    "print('Confusion Matrix:\\n',cnf_matrix)\n",
    "plt.imshow(cnf_matrix,  cmap=plt.cm.Blues) #Create the basic matrix.\n",
    "\n",
    "#Add title and Axis Labels\n",
    "plt.title('Confusion Matrix')\n",
    "plt.ylabel('True label')\n",
    "plt.xlabel('Predicted label')\n",
    "\n",
    "#Add appropriate Axis Scales\n",
    "class_names = set(y) #Get class labels to add to matrix\n",
    "tick_marks = np.arange(len(class_names))\n",
    "plt.xticks(tick_marks, class_names, rotation=45)\n",
    "plt.yticks(tick_marks, class_names)\n",
    "\n",
    "#Add Labels to Each Cell\n",
    "thresh = cnf_matrix.max() / 2. #Used for text coloring below\n",
    "#Here we iterate through the confusion matrix and append labels to our visualization.\n",
    "for i, j in itertools.product(range(cnf_matrix.shape[0]), range(cnf_matrix.shape[1])):\n",
    "        plt.text(j, i, cnf_matrix[i, j],\n",
    "                 horizontalalignment=\"center\",\n",
    "                 color=\"white\" if cnf_matrix[i, j] > thresh else \"black\")\n",
    "\n",
    "#Add a Side Bar Legend Showing Colors\n",
    "plt.colorbar()"
   ]
  },
  {
   "cell_type": "code",
   "execution_count": 556,
   "metadata": {},
   "outputs": [],
   "source": [
    "def plot_feature_importances(model):\n",
    "    n_features = X_train.shape[1]\n",
    "    plt.figure(figsize=(15,15))\n",
    "    plt.barh(range(n_features), model.feature_importances_, align='center') \n",
    "    plt.yticks(np.arange(n_features), X_train.columns.values) \n",
    "    plt.xlabel(\"Feature importance\")\n",
    "    plt.ylabel(\"Feature\")\n"
   ]
  },
  {
   "cell_type": "code",
   "execution_count": 557,
   "metadata": {},
   "outputs": [
    {
     "data": {
      "image/png": "[encoded data removed]",
      "text/plain": [
       "<Figure size 1080x1080 with 1 Axes>"
      ]
     },
     "metadata": {},
     "output_type": "display_data"
    }
   ],
   "source": [
    "plot_feature_importances(grbst)"
   ]
  },
  {
   "cell_type": "code",
   "execution_count": null,
   "metadata": {},
   "outputs": [],
   "source": []
  }
 ],
 "metadata": {
  "kernelspec": {
   "display_name": "Python 3",
   "language": "python",
   "name": "python3"
  },
  "language_info": {
   "codemirror_mode": {
    "name": "ipython",
    "version": 3
   },
   "file_extension": ".py",
   "mimetype": "text/x-python",
   "name": "python",
   "nbconvert_exporter": "python",
   "pygments_lexer": "ipython3",
   "version": "3.6.5"
  }
 },
 "nbformat": 4,
 "nbformat_minor": 2
}
